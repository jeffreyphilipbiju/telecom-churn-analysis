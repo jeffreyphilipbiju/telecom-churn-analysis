{
  "cells": [
    {
      "cell_type": "markdown",
      "metadata": {
        "id": "view-in-github",
        "colab_type": "text"
      },
      "source": [
        "<a href=\"https://colab.research.google.com/github/jeffreyphilipbiju/telecom-churn-analysis/blob/main/week3and4.ipynb\" target=\"_parent\"><img src=\"https://colab.research.google.com/assets/colab-badge.svg\" alt=\"Open In Colab\"/></a>"
      ]
    },
    {
      "cell_type": "markdown",
      "id": "df835522-712b-439d-ac6c-0667460a6b87",
      "metadata": {
        "id": "df835522-712b-439d-ac6c-0667460a6b87"
      },
      "source": [
        "## WEEK 3: Machine Learning Models"
      ]
    },
    {
      "cell_type": "code",
      "source": [
        "# Step 1: Import Required Libraries\n",
        "import pandas as pd\n",
        "import numpy as np\n",
        "import seaborn as sns\n",
        "import matplotlib.pyplot as plt\n",
        "\n",
        "from sklearn.model_selection import train_test_split\n",
        "from sklearn.preprocessing import StandardScaler\n",
        "from sklearn.linear_model import LogisticRegression\n",
        "from sklearn.ensemble import RandomForestClassifier\n",
        "from sklearn.metrics import (\n",
        "    accuracy_score, classification_report, confusion_matrix,\n",
        "    roc_auc_score, roc_curve\n",
        ")"
      ],
      "metadata": {
        "id": "1DSlAAJKE_On"
      },
      "id": "1DSlAAJKE_On",
      "execution_count": null,
      "outputs": []
    },
    {
      "cell_type": "code",
      "source": [
        "# Step 2: Load and Clean Data\n",
        "df = pd.read_csv(\"Telco-Customer-Churn Dataset.csv\")"
      ],
      "metadata": {
        "id": "oZ2dOaUlLsTK"
      },
      "id": "oZ2dOaUlLsTK",
      "execution_count": null,
      "outputs": []
    },
    {
      "cell_type": "code",
      "source": [
        "df.head()"
      ],
      "metadata": {
        "colab": {
          "base_uri": "https://localhost:8080/",
          "height": 342
        },
        "id": "ennnITaVIyO5",
        "outputId": "06d07945-863f-436c-f95a-ced1b4d22fd5"
      },
      "id": "ennnITaVIyO5",
      "execution_count": null,
      "outputs": [
        {
          "output_type": "execute_result",
          "data": {
            "text/plain": [
              "   customerID  gender  SeniorCitizen Partner Dependents  tenure PhoneService  \\\n",
              "0  7590-VHVEG  Female              0     Yes         No       1           No   \n",
              "1  5575-GNVDE    Male              0      No         No      34          Yes   \n",
              "2  3668-QPYBK    Male              0      No         No       2          Yes   \n",
              "3  7795-CFOCW    Male              0      No         No      45           No   \n",
              "4  9237-HQITU  Female              0      No         No       2          Yes   \n",
              "\n",
              "      MultipleLines InternetService OnlineSecurity  ... DeviceProtection  \\\n",
              "0  No phone service             DSL             No  ...               No   \n",
              "1                No             DSL            Yes  ...              Yes   \n",
              "2                No             DSL            Yes  ...               No   \n",
              "3  No phone service             DSL            Yes  ...              Yes   \n",
              "4                No     Fiber optic             No  ...               No   \n",
              "\n",
              "  TechSupport StreamingTV StreamingMovies        Contract PaperlessBilling  \\\n",
              "0          No          No              No  Month-to-month              Yes   \n",
              "1          No          No              No        One year               No   \n",
              "2          No          No              No  Month-to-month              Yes   \n",
              "3         Yes          No              No        One year               No   \n",
              "4          No          No              No  Month-to-month              Yes   \n",
              "\n",
              "               PaymentMethod MonthlyCharges  TotalCharges Churn  \n",
              "0           Electronic check          29.85         29.85    No  \n",
              "1               Mailed check          56.95        1889.5    No  \n",
              "2               Mailed check          53.85        108.15   Yes  \n",
              "3  Bank transfer (automatic)          42.30       1840.75    No  \n",
              "4           Electronic check          70.70        151.65   Yes  \n",
              "\n",
              "[5 rows x 21 columns]"
            ],
            "text/html": [
              "\n",
              "  <div id=\"df-af151a11-d525-4938-91d3-21d6851fc0d0\" class=\"colab-df-container\">\n",
              "    <div>\n",
              "<style scoped>\n",
              "    .dataframe tbody tr th:only-of-type {\n",
              "        vertical-align: middle;\n",
              "    }\n",
              "\n",
              "    .dataframe tbody tr th {\n",
              "        vertical-align: top;\n",
              "    }\n",
              "\n",
              "    .dataframe thead th {\n",
              "        text-align: right;\n",
              "    }\n",
              "</style>\n",
              "<table border=\"1\" class=\"dataframe\">\n",
              "  <thead>\n",
              "    <tr style=\"text-align: right;\">\n",
              "      <th></th>\n",
              "      <th>customerID</th>\n",
              "      <th>gender</th>\n",
              "      <th>SeniorCitizen</th>\n",
              "      <th>Partner</th>\n",
              "      <th>Dependents</th>\n",
              "      <th>tenure</th>\n",
              "      <th>PhoneService</th>\n",
              "      <th>MultipleLines</th>\n",
              "      <th>InternetService</th>\n",
              "      <th>OnlineSecurity</th>\n",
              "      <th>...</th>\n",
              "      <th>DeviceProtection</th>\n",
              "      <th>TechSupport</th>\n",
              "      <th>StreamingTV</th>\n",
              "      <th>StreamingMovies</th>\n",
              "      <th>Contract</th>\n",
              "      <th>PaperlessBilling</th>\n",
              "      <th>PaymentMethod</th>\n",
              "      <th>MonthlyCharges</th>\n",
              "      <th>TotalCharges</th>\n",
              "      <th>Churn</th>\n",
              "    </tr>\n",
              "  </thead>\n",
              "  <tbody>\n",
              "    <tr>\n",
              "      <th>0</th>\n",
              "      <td>7590-VHVEG</td>\n",
              "      <td>Female</td>\n",
              "      <td>0</td>\n",
              "      <td>Yes</td>\n",
              "      <td>No</td>\n",
              "      <td>1</td>\n",
              "      <td>No</td>\n",
              "      <td>No phone service</td>\n",
              "      <td>DSL</td>\n",
              "      <td>No</td>\n",
              "      <td>...</td>\n",
              "      <td>No</td>\n",
              "      <td>No</td>\n",
              "      <td>No</td>\n",
              "      <td>No</td>\n",
              "      <td>Month-to-month</td>\n",
              "      <td>Yes</td>\n",
              "      <td>Electronic check</td>\n",
              "      <td>29.85</td>\n",
              "      <td>29.85</td>\n",
              "      <td>No</td>\n",
              "    </tr>\n",
              "    <tr>\n",
              "      <th>1</th>\n",
              "      <td>5575-GNVDE</td>\n",
              "      <td>Male</td>\n",
              "      <td>0</td>\n",
              "      <td>No</td>\n",
              "      <td>No</td>\n",
              "      <td>34</td>\n",
              "      <td>Yes</td>\n",
              "      <td>No</td>\n",
              "      <td>DSL</td>\n",
              "      <td>Yes</td>\n",
              "      <td>...</td>\n",
              "      <td>Yes</td>\n",
              "      <td>No</td>\n",
              "      <td>No</td>\n",
              "      <td>No</td>\n",
              "      <td>One year</td>\n",
              "      <td>No</td>\n",
              "      <td>Mailed check</td>\n",
              "      <td>56.95</td>\n",
              "      <td>1889.5</td>\n",
              "      <td>No</td>\n",
              "    </tr>\n",
              "    <tr>\n",
              "      <th>2</th>\n",
              "      <td>3668-QPYBK</td>\n",
              "      <td>Male</td>\n",
              "      <td>0</td>\n",
              "      <td>No</td>\n",
              "      <td>No</td>\n",
              "      <td>2</td>\n",
              "      <td>Yes</td>\n",
              "      <td>No</td>\n",
              "      <td>DSL</td>\n",
              "      <td>Yes</td>\n",
              "      <td>...</td>\n",
              "      <td>No</td>\n",
              "      <td>No</td>\n",
              "      <td>No</td>\n",
              "      <td>No</td>\n",
              "      <td>Month-to-month</td>\n",
              "      <td>Yes</td>\n",
              "      <td>Mailed check</td>\n",
              "      <td>53.85</td>\n",
              "      <td>108.15</td>\n",
              "      <td>Yes</td>\n",
              "    </tr>\n",
              "    <tr>\n",
              "      <th>3</th>\n",
              "      <td>7795-CFOCW</td>\n",
              "      <td>Male</td>\n",
              "      <td>0</td>\n",
              "      <td>No</td>\n",
              "      <td>No</td>\n",
              "      <td>45</td>\n",
              "      <td>No</td>\n",
              "      <td>No phone service</td>\n",
              "      <td>DSL</td>\n",
              "      <td>Yes</td>\n",
              "      <td>...</td>\n",
              "      <td>Yes</td>\n",
              "      <td>Yes</td>\n",
              "      <td>No</td>\n",
              "      <td>No</td>\n",
              "      <td>One year</td>\n",
              "      <td>No</td>\n",
              "      <td>Bank transfer (automatic)</td>\n",
              "      <td>42.30</td>\n",
              "      <td>1840.75</td>\n",
              "      <td>No</td>\n",
              "    </tr>\n",
              "    <tr>\n",
              "      <th>4</th>\n",
              "      <td>9237-HQITU</td>\n",
              "      <td>Female</td>\n",
              "      <td>0</td>\n",
              "      <td>No</td>\n",
              "      <td>No</td>\n",
              "      <td>2</td>\n",
              "      <td>Yes</td>\n",
              "      <td>No</td>\n",
              "      <td>Fiber optic</td>\n",
              "      <td>No</td>\n",
              "      <td>...</td>\n",
              "      <td>No</td>\n",
              "      <td>No</td>\n",
              "      <td>No</td>\n",
              "      <td>No</td>\n",
              "      <td>Month-to-month</td>\n",
              "      <td>Yes</td>\n",
              "      <td>Electronic check</td>\n",
              "      <td>70.70</td>\n",
              "      <td>151.65</td>\n",
              "      <td>Yes</td>\n",
              "    </tr>\n",
              "  </tbody>\n",
              "</table>\n",
              "<p>5 rows × 21 columns</p>\n",
              "</div>\n",
              "    <div class=\"colab-df-buttons\">\n",
              "\n",
              "  <div class=\"colab-df-container\">\n",
              "    <button class=\"colab-df-convert\" onclick=\"convertToInteractive('df-af151a11-d525-4938-91d3-21d6851fc0d0')\"\n",
              "            title=\"Convert this dataframe to an interactive table.\"\n",
              "            style=\"display:none;\">\n",
              "\n",
              "  <svg xmlns=\"http://www.w3.org/2000/svg\" height=\"24px\" viewBox=\"0 -960 960 960\">\n",
              "    <path d=\"M120-120v-720h720v720H120Zm60-500h600v-160H180v160Zm220 220h160v-160H400v160Zm0 220h160v-160H400v160ZM180-400h160v-160H180v160Zm440 0h160v-160H620v160ZM180-180h160v-160H180v160Zm440 0h160v-160H620v160Z\"/>\n",
              "  </svg>\n",
              "    </button>\n",
              "\n",
              "  <style>\n",
              "    .colab-df-container {\n",
              "      display:flex;\n",
              "      gap: 12px;\n",
              "    }\n",
              "\n",
              "    .colab-df-convert {\n",
              "      background-color: #E8F0FE;\n",
              "      border: none;\n",
              "      border-radius: 50%;\n",
              "      cursor: pointer;\n",
              "      display: none;\n",
              "      fill: #1967D2;\n",
              "      height: 32px;\n",
              "      padding: 0 0 0 0;\n",
              "      width: 32px;\n",
              "    }\n",
              "\n",
              "    .colab-df-convert:hover {\n",
              "      background-color: #E2EBFA;\n",
              "      box-shadow: 0px 1px 2px rgba(60, 64, 67, 0.3), 0px 1px 3px 1px rgba(60, 64, 67, 0.15);\n",
              "      fill: #174EA6;\n",
              "    }\n",
              "\n",
              "    .colab-df-buttons div {\n",
              "      margin-bottom: 4px;\n",
              "    }\n",
              "\n",
              "    [theme=dark] .colab-df-convert {\n",
              "      background-color: #3B4455;\n",
              "      fill: #D2E3FC;\n",
              "    }\n",
              "\n",
              "    [theme=dark] .colab-df-convert:hover {\n",
              "      background-color: #434B5C;\n",
              "      box-shadow: 0px 1px 3px 1px rgba(0, 0, 0, 0.15);\n",
              "      filter: drop-shadow(0px 1px 2px rgba(0, 0, 0, 0.3));\n",
              "      fill: #FFFFFF;\n",
              "    }\n",
              "  </style>\n",
              "\n",
              "    <script>\n",
              "      const buttonEl =\n",
              "        document.querySelector('#df-af151a11-d525-4938-91d3-21d6851fc0d0 button.colab-df-convert');\n",
              "      buttonEl.style.display =\n",
              "        google.colab.kernel.accessAllowed ? 'block' : 'none';\n",
              "\n",
              "      async function convertToInteractive(key) {\n",
              "        const element = document.querySelector('#df-af151a11-d525-4938-91d3-21d6851fc0d0');\n",
              "        const dataTable =\n",
              "          await google.colab.kernel.invokeFunction('convertToInteractive',\n",
              "                                                    [key], {});\n",
              "        if (!dataTable) return;\n",
              "\n",
              "        const docLinkHtml = 'Like what you see? Visit the ' +\n",
              "          '<a target=\"_blank\" href=https://colab.research.google.com/notebooks/data_table.ipynb>data table notebook</a>'\n",
              "          + ' to learn more about interactive tables.';\n",
              "        element.innerHTML = '';\n",
              "        dataTable['output_type'] = 'display_data';\n",
              "        await google.colab.output.renderOutput(dataTable, element);\n",
              "        const docLink = document.createElement('div');\n",
              "        docLink.innerHTML = docLinkHtml;\n",
              "        element.appendChild(docLink);\n",
              "      }\n",
              "    </script>\n",
              "  </div>\n",
              "\n",
              "\n",
              "    <div id=\"df-9a367e2c-0c37-4178-bea2-9c17d927d362\">\n",
              "      <button class=\"colab-df-quickchart\" onclick=\"quickchart('df-9a367e2c-0c37-4178-bea2-9c17d927d362')\"\n",
              "                title=\"Suggest charts\"\n",
              "                style=\"display:none;\">\n",
              "\n",
              "<svg xmlns=\"http://www.w3.org/2000/svg\" height=\"24px\"viewBox=\"0 0 24 24\"\n",
              "     width=\"24px\">\n",
              "    <g>\n",
              "        <path d=\"M19 3H5c-1.1 0-2 .9-2 2v14c0 1.1.9 2 2 2h14c1.1 0 2-.9 2-2V5c0-1.1-.9-2-2-2zM9 17H7v-7h2v7zm4 0h-2V7h2v10zm4 0h-2v-4h2v4z\"/>\n",
              "    </g>\n",
              "</svg>\n",
              "      </button>\n",
              "\n",
              "<style>\n",
              "  .colab-df-quickchart {\n",
              "      --bg-color: #E8F0FE;\n",
              "      --fill-color: #1967D2;\n",
              "      --hover-bg-color: #E2EBFA;\n",
              "      --hover-fill-color: #174EA6;\n",
              "      --disabled-fill-color: #AAA;\n",
              "      --disabled-bg-color: #DDD;\n",
              "  }\n",
              "\n",
              "  [theme=dark] .colab-df-quickchart {\n",
              "      --bg-color: #3B4455;\n",
              "      --fill-color: #D2E3FC;\n",
              "      --hover-bg-color: #434B5C;\n",
              "      --hover-fill-color: #FFFFFF;\n",
              "      --disabled-bg-color: #3B4455;\n",
              "      --disabled-fill-color: #666;\n",
              "  }\n",
              "\n",
              "  .colab-df-quickchart {\n",
              "    background-color: var(--bg-color);\n",
              "    border: none;\n",
              "    border-radius: 50%;\n",
              "    cursor: pointer;\n",
              "    display: none;\n",
              "    fill: var(--fill-color);\n",
              "    height: 32px;\n",
              "    padding: 0;\n",
              "    width: 32px;\n",
              "  }\n",
              "\n",
              "  .colab-df-quickchart:hover {\n",
              "    background-color: var(--hover-bg-color);\n",
              "    box-shadow: 0 1px 2px rgba(60, 64, 67, 0.3), 0 1px 3px 1px rgba(60, 64, 67, 0.15);\n",
              "    fill: var(--button-hover-fill-color);\n",
              "  }\n",
              "\n",
              "  .colab-df-quickchart-complete:disabled,\n",
              "  .colab-df-quickchart-complete:disabled:hover {\n",
              "    background-color: var(--disabled-bg-color);\n",
              "    fill: var(--disabled-fill-color);\n",
              "    box-shadow: none;\n",
              "  }\n",
              "\n",
              "  .colab-df-spinner {\n",
              "    border: 2px solid var(--fill-color);\n",
              "    border-color: transparent;\n",
              "    border-bottom-color: var(--fill-color);\n",
              "    animation:\n",
              "      spin 1s steps(1) infinite;\n",
              "  }\n",
              "\n",
              "  @keyframes spin {\n",
              "    0% {\n",
              "      border-color: transparent;\n",
              "      border-bottom-color: var(--fill-color);\n",
              "      border-left-color: var(--fill-color);\n",
              "    }\n",
              "    20% {\n",
              "      border-color: transparent;\n",
              "      border-left-color: var(--fill-color);\n",
              "      border-top-color: var(--fill-color);\n",
              "    }\n",
              "    30% {\n",
              "      border-color: transparent;\n",
              "      border-left-color: var(--fill-color);\n",
              "      border-top-color: var(--fill-color);\n",
              "      border-right-color: var(--fill-color);\n",
              "    }\n",
              "    40% {\n",
              "      border-color: transparent;\n",
              "      border-right-color: var(--fill-color);\n",
              "      border-top-color: var(--fill-color);\n",
              "    }\n",
              "    60% {\n",
              "      border-color: transparent;\n",
              "      border-right-color: var(--fill-color);\n",
              "    }\n",
              "    80% {\n",
              "      border-color: transparent;\n",
              "      border-right-color: var(--fill-color);\n",
              "      border-bottom-color: var(--fill-color);\n",
              "    }\n",
              "    90% {\n",
              "      border-color: transparent;\n",
              "      border-bottom-color: var(--fill-color);\n",
              "    }\n",
              "  }\n",
              "</style>\n",
              "\n",
              "      <script>\n",
              "        async function quickchart(key) {\n",
              "          const quickchartButtonEl =\n",
              "            document.querySelector('#' + key + ' button');\n",
              "          quickchartButtonEl.disabled = true;  // To prevent multiple clicks.\n",
              "          quickchartButtonEl.classList.add('colab-df-spinner');\n",
              "          try {\n",
              "            const charts = await google.colab.kernel.invokeFunction(\n",
              "                'suggestCharts', [key], {});\n",
              "          } catch (error) {\n",
              "            console.error('Error during call to suggestCharts:', error);\n",
              "          }\n",
              "          quickchartButtonEl.classList.remove('colab-df-spinner');\n",
              "          quickchartButtonEl.classList.add('colab-df-quickchart-complete');\n",
              "        }\n",
              "        (() => {\n",
              "          let quickchartButtonEl =\n",
              "            document.querySelector('#df-9a367e2c-0c37-4178-bea2-9c17d927d362 button');\n",
              "          quickchartButtonEl.style.display =\n",
              "            google.colab.kernel.accessAllowed ? 'block' : 'none';\n",
              "        })();\n",
              "      </script>\n",
              "    </div>\n",
              "\n",
              "    </div>\n",
              "  </div>\n"
            ],
            "application/vnd.google.colaboratory.intrinsic+json": {
              "type": "dataframe",
              "variable_name": "df"
            }
          },
          "metadata": {},
          "execution_count": 3
        }
      ]
    },
    {
      "cell_type": "code",
      "source": [
        "df['TotalCharges'] = pd.to_numeric(df['TotalCharges'], errors='coerce')\n",
        "df.dropna(inplace=True)\n",
        "\n",
        "df['Churn'] = df['Churn'].map({'No': 0, 'Yes': 1})  # Encode target\n",
        "df.drop('customerID', axis=1, inplace=True)         # Drop ID column"
      ],
      "metadata": {
        "id": "1ifWD50fFQUl"
      },
      "id": "1ifWD50fFQUl",
      "execution_count": null,
      "outputs": []
    },
    {
      "cell_type": "markdown",
      "source": [
        "Convert TotalCharges to numeric (it has some spaces or bad data).\n",
        "\n",
        "Drop rows with missing values.\n",
        "\n",
        "Encode the target variable Churn as 0 (No) and 1 (Yes).\n",
        "\n",
        "Drop the customerID since it's just an identifier, not useful for prediction."
      ],
      "metadata": {
        "id": "I4qTblTPoawl"
      },
      "id": "I4qTblTPoawl"
    },
    {
      "cell_type": "code",
      "source": [
        "# Step 3: One-Hot Encode Categorical Variables\n",
        "df = pd.get_dummies(df, drop_first=True)"
      ],
      "metadata": {
        "id": "NX2Mu3peL0P8"
      },
      "id": "NX2Mu3peL0P8",
      "execution_count": null,
      "outputs": []
    },
    {
      "cell_type": "code",
      "source": [
        "# Step 4: Feature Engineering – Tenure Group\n",
        "df['tenure_group'] = pd.cut(\n",
        "    df['tenure'],\n",
        "    bins=[0, 12, 24, 48, 60, 72],\n",
        "    labels=['0-12', '12-24', '24-48', '48-60', '60-72']\n",
        ")\n",
        "df = pd.get_dummies(df, columns=['tenure_group'], drop_first=True)"
      ],
      "metadata": {
        "id": "t_jJ6exXL2Zj"
      },
      "id": "t_jJ6exXL2Zj",
      "execution_count": null,
      "outputs": []
    },
    {
      "cell_type": "markdown",
      "source": [
        "Groups tenure (months with the company) into ranges.\n",
        "\n",
        "Encodes those tenure groups using one-hot encoding."
      ],
      "metadata": {
        "id": "x9yrZGNMomAk"
      },
      "id": "x9yrZGNMomAk"
    },
    {
      "cell_type": "markdown",
      "source": [
        "\n",
        "## Step 11: Split Features and Target"
      ],
      "metadata": {
        "id": "RhKev6OZE_Dy"
      },
      "id": "RhKev6OZE_Dy"
    },
    {
      "cell_type": "code",
      "source": [
        "# Step 5: Split Features and Target\n",
        "X = df.drop('Churn', axis=1)\n",
        "y = df['Churn']"
      ],
      "metadata": {
        "id": "aJTp6iEEL6pN"
      },
      "id": "aJTp6iEEL6pN",
      "execution_count": null,
      "outputs": []
    },
    {
      "cell_type": "markdown",
      "source": [
        "X = all features (independent variables).\n",
        "\n",
        "y = target variable (Churn)."
      ],
      "metadata": {
        "id": "8GhBnvuUopUU"
      },
      "id": "8GhBnvuUopUU"
    },
    {
      "cell_type": "code",
      "execution_count": null,
      "id": "df361c44-47e4-4c17-8767-f04f5f297b14",
      "metadata": {
        "id": "df361c44-47e4-4c17-8767-f04f5f297b14"
      },
      "outputs": [],
      "source": [
        "# Step 6: Train/Test Split and Scaling\n",
        "X_train, X_test, y_train, y_test = train_test_split(\n",
        "    X, y, test_size=0.2, random_state=42, stratify=y\n",
        ")\n",
        "\n",
        "scaler = StandardScaler()\n",
        "X_train_scaled = scaler.fit_transform(X_train)\n",
        "X_test_scaled = scaler.transform(X_test)"
      ]
    },
    {
      "cell_type": "markdown",
      "source": [
        "Splits data: 80% for training, 20% for testing.\n",
        "\n",
        "stratify=y: ensures the churn rate is balanced in both sets.\n",
        "\n",
        "StandardScaler: scales features to have mean 0 and variance 1 (important for models like logistic regression)."
      ],
      "metadata": {
        "id": "O8iHjoScor9q"
      },
      "id": "O8iHjoScor9q"
    },
    {
      "cell_type": "code",
      "source": [
        "# Step 7: Model Training and Evaluation\n",
        "print(\"\\n\" + \"=\"*50)\n",
        "print(\"Step 7: Model Training and Evaluation\")\n",
        "print(\"=\"*50)\n",
        "\n",
        "models = {\n",
        "    'Logistic Regression': LogisticRegression(max_iter=1000, random_state=42),\n",
        "    'Random Forest': RandomForestClassifier(n_estimators=100, random_state=42)\n",
        "}\n",
        "\n",
        "\n",
        "#Trains two models: Logistic Regression (a simple linear classifier).\n",
        "#Random Forest (a more complex ensemble tree-based model).\n",
        "\n",
        "results = {}\n",
        "\n",
        "for name, model in models.items():\n",
        "    print(f\"\\n--- {name} ---\")\n",
        "\n",
        "    if name == 'Logistic Regression':\n",
        "        model.fit(X_train_scaled, y_train)\n",
        "        y_pred = model.predict(X_test_scaled)\n",
        "        y_proba = model.predict_proba(X_test_scaled)[:, 1]\n",
        "    else:\n",
        "        model.fit(X_train, y_train)\n",
        "        y_pred = model.predict(X_test)\n",
        "        y_proba = model.predict_proba(X_test)[:, 1]\n",
        "\n",
        "    acc = accuracy_score(y_test, y_pred)\n",
        "    auc = roc_auc_score(y_test, y_proba)\n",
        "\n",
        "    print(f\"Accuracy: {acc:.4f}\")\n",
        "    print(f\"AUC Score: {auc:.4f}\")\n",
        "\n",
        "    print(\"\\nClassification Report:\")\n",
        "    print(classification_report(y_test, y_pred))"
      ],
      "metadata": {
        "colab": {
          "base_uri": "https://localhost:8080/"
        },
        "id": "V8HEUbe1Jkd8",
        "outputId": "92d1de03-b2ef-4648-ed73-76f153f1e3a7"
      },
      "id": "V8HEUbe1Jkd8",
      "execution_count": null,
      "outputs": [
        {
          "output_type": "stream",
          "name": "stdout",
          "text": [
            "\n",
            "==================================================\n",
            "Step 7: Model Training and Evaluation\n",
            "==================================================\n",
            "\n",
            "--- Logistic Regression ---\n",
            "Accuracy: 0.7939\n",
            "AUC Score: 0.8351\n",
            "\n",
            "Classification Report:\n",
            "              precision    recall  f1-score   support\n",
            "\n",
            "           0       0.84      0.89      0.86      1033\n",
            "           1       0.64      0.52      0.57       374\n",
            "\n",
            "    accuracy                           0.79      1407\n",
            "   macro avg       0.74      0.71      0.72      1407\n",
            "weighted avg       0.78      0.79      0.79      1407\n",
            "\n",
            "\n",
            "--- Random Forest ---\n",
            "Accuracy: 0.7918\n",
            "AUC Score: 0.8176\n",
            "\n",
            "Classification Report:\n",
            "              precision    recall  f1-score   support\n",
            "\n",
            "           0       0.84      0.89      0.86      1033\n",
            "           1       0.63      0.51      0.57       374\n",
            "\n",
            "    accuracy                           0.79      1407\n",
            "   macro avg       0.73      0.70      0.72      1407\n",
            "weighted avg       0.78      0.79      0.78      1407\n",
            "\n"
          ]
        }
      ]
    },
    {
      "cell_type": "markdown",
      "source": [
        "**The Purpose:**\n",
        "This code trains and evaluates two different machine learning models to solve a classification problem - essentially teaching computers to categorize data into two groups (labeled as 0 and 1).\n",
        "\n",
        "**The Two Models:**\n",
        "1. **Logistic Regression** - A simple, straightforward approach that draws a straight line to separate the two classes\n",
        "2. **Random Forest** - A more sophisticated approach that uses multiple decision trees (like a committee of experts voting)\n",
        "\n",
        "**Key Code Elements:**\n",
        "\n",
        "**Model Setup:**\n",
        "```python\n",
        "models = {\n",
        "    'Logistic Regression': LogisticRegression(max_iter=1000, random_state=42),\n",
        "    'Random Forest': RandomForestClassifier(n_estimators=100, random_state=42)\n",
        "}\n",
        "```\n",
        "- Creates two models with specific settings\n",
        "- `random_state=42` ensures reproducible results\n",
        "\n",
        "**Training Process:**\n",
        "- **Logistic Regression** uses scaled data (normalized features) because it's sensitive to feature magnitude\n",
        "- **Random Forest** uses original data because tree-based models don't need scaling\n",
        "- Both models learn patterns from training data, then make predictions on test data\n",
        "\n",
        "**Evaluation Metrics:**\n",
        "- **Accuracy**: What percentage of predictions were correct overall\n",
        "- **AUC Score**: How well the model can distinguish between the two classes (0.5 = random guessing, 1.0 = perfect)\n",
        "- **Classification Report**: Detailed breakdown of performance for each class\n",
        "\n",
        "## What The Results Tell Us\n",
        "\n",
        "**The Big Picture:**\n",
        "- Both models achieved about 79% accuracy - pretty good performance\n",
        "- However, there's a significant challenge: **class imbalance**\n",
        "\n",
        "**The Problem:**\n",
        "- Class 0: 1,033 examples (majority)\n",
        "- Class 1: 374 examples (minority)\n",
        "- Both models are better at predicting class 0 than class 1\n",
        "\n",
        "**Real-World Impact:**\n",
        "If this were a medical diagnosis system:\n",
        "- The models correctly identify about 89% of healthy people (class 0)\n",
        "- But only catch about 51-52% of sick people (class 1)\n",
        "- This means roughly half of sick patients would be missed!\n",
        "\n",
        "**Model Comparison:**\n",
        "- **Logistic Regression** slightly edges out Random Forest in AUC score (0.8351 vs 0.8176)\n",
        "- Both have similar overall accuracy, but Logistic Regression is better at ranking predictions\n",
        "\n",
        "**Next Steps:**\n",
        "To improve performance, especially for the minority class, you might:\n",
        "- Collect more data for class 1\n",
        "- Use techniques to balance the dataset\n",
        "- Adjust model parameters to be more sensitive to the minority class\n",
        "- Consider the cost of false negatives vs false positives in your specific use case\n",
        "\n",
        "The key takeaway is that both models work reasonably well overall, but struggle with the less common class - a typical challenge in machine learning that requires careful consideration of your specific problem context."
      ],
      "metadata": {
        "id": "oIe7m3zivUd3"
      },
      "id": "oIe7m3zivUd3"
    },
    {
      "cell_type": "code",
      "source": [
        "    # Confusion Matrix\n",
        "    plt.figure(figsize=(6, 4))\n",
        "    sns.heatmap(confusion_matrix(y_test, y_pred), annot=True, fmt='d', cmap='Blues',\n",
        "                xticklabels=['No Churn', 'Churn'], yticklabels=['No Churn', 'Churn'])\n",
        "    plt.title(f'Confusion Matrix - {name}')\n",
        "    plt.ylabel('Actual')\n",
        "    plt.xlabel('Predicted')\n",
        "    plt.show()\n",
        "\n",
        "    results[name] = {\n",
        "        'model': model,\n",
        "        'accuracy': acc,\n",
        "        'auc': auc,\n",
        "        'y_pred': y_pred,\n",
        "        'y_proba': y_proba\n",
        "    }"
      ],
      "metadata": {
        "colab": {
          "base_uri": "https://localhost:8080/",
          "height": 410
        },
        "id": "7s17NlxxMRGh",
        "outputId": "5d13ba2e-a157-4c6f-c61e-48364b2bef7c"
      },
      "id": "7s17NlxxMRGh",
      "execution_count": null,
      "outputs": [
        {
          "output_type": "display_data",
          "data": {
            "text/plain": [
              "<Figure size 600x400 with 2 Axes>"
            ],
            "image/png": "[encoded data removed]"
          },
          "metadata": {}
        }
      ]
    },
    {
      "cell_type": "markdown",
      "source": [
        "## Code & Output Explanation\n",
        "\n",
        "**What the Code Does:**\n",
        "- Creates a confusion matrix for each model in the loop\n",
        "- Uses `sns.heatmap()` to visualize prediction accuracy\n",
        "- `{name}` automatically titles each matrix (this one shows Random Forest)\n",
        "\n",
        "**Reading the Matrix:**\n",
        "- **922**: Correct \"No Churn\" predictions ✅\n",
        "- **111**: False alarms (predicted churn, customers stayed) ❌\n",
        "- **182**: Missed churners (customers left unexpectedly) ❌\n",
        "- **192**: Correct \"Churn\" predictions ✅\n",
        "\n",
        "**Key Insights:**\n",
        "- **89% accuracy** on loyal customers (922/1033)\n",
        "- **51% accuracy** on churners (192/374)\n",
        "- **182 missed churners** = potential lost revenue\n",
        "- **Same class imbalance issue** as the classification report showed\n",
        "\n",
        "**Bottom Line:**\n",
        "Model excels at identifying loyal customers but misses half of those who actually churn. Compare with Logistic Regression matrix to see which handles churners better."
      ],
      "metadata": {
        "id": "iZRAW6jUxGbG"
      },
      "id": "iZRAW6jUxGbG"
    },
    {
      "cell_type": "code",
      "source": [
        "# Step 8: Feature Importance (Random Forest)\n",
        "print(\"\\n\" + \"=\"*50)\n",
        "print(\"Step 8: Feature Importance\")\n",
        "print(\"=\"*50)\n",
        "\n",
        "rf_model = results['Random Forest']['model']\n",
        "feature_importance = pd.DataFrame({\n",
        "    'feature': X.columns,\n",
        "    'importance': rf_model.feature_importances_\n",
        "}).sort_values(by='importance', ascending=False)\n",
        "#•\tExtracts feature importance scores from Random Forest model\n",
        "print(\"\\nTop 15 Features by Importance:\\n\")\n",
        "print(feature_importance.head(15).to_string(index=False))"
      ],
      "metadata": {
        "colab": {
          "base_uri": "https://localhost:8080/"
        },
        "id": "bbBF-grvMopc",
        "outputId": "063755d5-14c3-4837-bbd8-5f6157a34c71"
      },
      "id": "bbBF-grvMopc",
      "execution_count": null,
      "outputs": [
        {
          "output_type": "stream",
          "name": "stdout",
          "text": [
            "\n",
            "==================================================\n",
            "Step 8: Feature Importance\n",
            "==================================================\n",
            "\n",
            "Top 15 Features by Importance:\n",
            "\n",
            "                       feature  importance\n",
            "                  TotalCharges    0.181596\n",
            "                        tenure    0.160091\n",
            "                MonthlyCharges    0.157722\n",
            "   InternetService_Fiber optic    0.034959\n",
            "PaymentMethod_Electronic check    0.034102\n",
            "             Contract_Two year    0.030532\n",
            "                   gender_Male    0.027934\n",
            "          PaperlessBilling_Yes    0.026627\n",
            "            OnlineSecurity_Yes    0.025702\n",
            "               TechSupport_Yes    0.023996\n",
            "             Contract_One year    0.023773\n",
            "                   Partner_Yes    0.023512\n",
            "              OnlineBackup_Yes    0.022337\n",
            "             MultipleLines_Yes    0.021143\n",
            "                 SeniorCitizen    0.021004\n"
          ]
        }
      ]
    },
    {
      "cell_type": "markdown",
      "source": [
        "## Code & Output Explanation\n",
        "\n",
        "**What the Code Does:**\n",
        "- Extracts feature importance scores from Random Forest model\n",
        "- `rf_model.feature_importances_` gets the importance values\n",
        "- Creates sorted DataFrame showing top 15 most influential features\n",
        "\n",
        "**Reading the Results:**\n",
        "- **Higher scores = more important** for predicting churn\n",
        "- Scores show relative influence (sum to 1.0)\n",
        "\n",
        "**Top 3 Most Important Features:**\n",
        "1. **TotalCharges (0.182)**: Customer's total spending\n",
        "2. **tenure (0.168)**: How long they've been a customer  \n",
        "3. **MonthlyCharges (0.158)**: Monthly bill amount\n",
        "\n",
        "**Key Insights:**\n",
        "- **Financial factors dominate**: Billing patterns are strongest churn predictors\n",
        "- **Customer lifecycle matters**: Newer customers (low tenure) are higher risk\n",
        "- **Service complexity**: Internet service type and contract terms also matter\n",
        "\n",
        "**Business Value:**\n",
        "Shows *why* the model makes predictions - focus retention efforts on high-risk billing patterns and newer customers."
      ],
      "metadata": {
        "id": "FMRHmfJ2xcQM"
      },
      "id": "FMRHmfJ2xcQM"
    },
    {
      "cell_type": "code",
      "source": [
        "# Plot Feature Importance\n",
        "top_feat = feature_importance.head(15)\n",
        "plt.figure(figsize=(12, 6))\n",
        "sns.barplot(x='importance', y='feature', data=top_feat)\n",
        "plt.title('Top 15 Feature Importances (Random Forest)')\n",
        "plt.xlabel('Importance')\n",
        "plt.ylabel('Feature')\n",
        "plt.tight_layout()\n",
        "plt.show()"
      ],
      "metadata": {
        "colab": {
          "base_uri": "https://localhost:8080/",
          "height": 607
        },
        "id": "0WxcujZ-MrXD",
        "outputId": "65d7a55b-2680-409a-94ae-8e0c6f0377a2"
      },
      "id": "0WxcujZ-MrXD",
      "execution_count": null,
      "outputs": [
        {
          "output_type": "display_data",
          "data": {
            "text/plain": [
              "<Figure size 1200x600 with 1 Axes>"
            ],
            "image/png": "[encoded data removed]"
          },
          "metadata": {}
        }
      ]
    },
    {
      "cell_type": "markdown",
      "source": [
        "## Code & Output Explanation\n",
        "\n",
        "**What the Code Does:**\n",
        "- Creates horizontal bar chart of top 15 feature importances\n",
        "- Uses `sns.barplot()` to visualize the sorted DataFrame\n",
        "- Shows which features matter most for churn prediction\n",
        "\n",
        "**Reading the Chart:**\n",
        "- **Longer bars = more important** features\n",
        "- **Clear top 3**: TotalCharges, tenure, MonthlyCharges dominate\n",
        "- **Big drop-off** after financial features\n",
        "\n",
        "**Key Insight:**\n",
        "Visual confirms that billing patterns (top 3 long bars) are the main churn drivers, with service features having secondary importance.\n",
        "\n",
        "**Business Value:**\n",
        "Focus retention efforts on customers with specific billing characteristics - the chart clearly shows what matters most."
      ],
      "metadata": {
        "id": "9kw0Tf0Axjq4"
      },
      "id": "9kw0Tf0Axjq4"
    },
    {
      "cell_type": "code",
      "source": [
        "# Step 9: Business Insights and Recommendations\n",
        "print(\"\\n\" + \"=\"*50)\n",
        "print(\"Step 9: Business Insights and Recommendations\")\n",
        "print(\"=\"*50)\n",
        "\n",
        "# Overall Churn Rate\n",
        "churn_rate = y.mean()\n",
        "print(f\"1. Overall churn rate: {churn_rate:.1%}\")\n",
        "\n",
        "# Tenure Group Analysis\n",
        "tenure_churn = df.groupby('tenure')['Churn'].mean()\n",
        "print(f\"\\n2. Churn rate by tenure:\")\n",
        "for bucket in df['tenure'].unique():\n",
        "    rate = df[df['tenure'] == bucket]['Churn'].mean()\n",
        "    print(f\"   Tenure {int(bucket):2d} months: {rate:.1%}\")\n",
        "\n",
        "# Contract Type Analysis\n",
        "def contract_type(row):\n",
        "    if row.get('Contract_One year', 0) == 1:\n",
        "        return 'One year'\n",
        "    elif row.get('Contract_Two year', 0) == 1:\n",
        "        return 'Two year'\n",
        "    else:\n",
        "        return 'Month-to-month'\n",
        "\n",
        "df['ContractType'] = df.apply(contract_type, axis=1)\n",
        "contract_churn = df.groupby('ContractType')['Churn'].mean()\n",
        "print(f\"\\n3. Churn by Contract Type:\")\n",
        "for contract, rate in contract_churn.items():\n",
        "    print(f\"   {contract}: {rate:.1%}\")\n",
        "\n",
        "# Payment Method Analysis\n",
        "if 'PaymentMethod_Electronic check' in df.columns:\n",
        "    payment_churn = df.groupby('PaymentMethod_Electronic check')['Churn'].mean()\n",
        "    print(f\"\\n4. Churn by Payment Method:\")\n",
        "    print(\"   Electronic Check: {:.1%}\".format(payment_churn[1]))\n",
        "    print(\"   Other Methods: {:.1%}\".format(payment_churn[0]))\n",
        "\n",
        "# Best Model Summary\n",
        "best_model = max(results.items(), key=lambda x: x[1]['auc'])\n",
        "print(f\"\\n🏆 Best Model: {best_model[0]}\")\n",
        "print(f\"AUC Score: {best_model[1]['auc']:.4f}\")\n",
        "print(f\"Accuracy: {best_model[1]['accuracy']:.4f}\")\n",
        "\n",
        "print(\"\\n✅ ANALYSIS COMPLETE.\")"
      ],
      "metadata": {
        "colab": {
          "base_uri": "https://localhost:8080/"
        },
        "id": "68punWjqMvqu",
        "outputId": "a1e3ba4e-f20f-4650-ec9a-bb3d2635a56e"
      },
      "id": "68punWjqMvqu",
      "execution_count": null,
      "outputs": [
        {
          "output_type": "stream",
          "name": "stdout",
          "text": [
            "\n",
            "==================================================\n",
            "Step 9: Business Insights and Recommendations\n",
            "==================================================\n",
            "1. Overall churn rate: 26.6%\n",
            "\n",
            "2. Churn rate by tenure:\n",
            "   Tenure  1 months: 62.0%\n",
            "   Tenure 34 months: 18.5%\n",
            "   Tenure  2 months: 51.7%\n",
            "   Tenure 45 months: 9.8%\n",
            "   Tenure  8 months: 34.1%\n",
            "   Tenure 22 months: 30.0%\n",
            "   Tenure 10 months: 38.8%\n",
            "   Tenure 28 months: 21.1%\n",
            "   Tenure 62 months: 7.1%\n",
            "   Tenure 13 months: 34.9%\n",
            "   Tenure 16 months: 35.0%\n",
            "   Tenure 58 months: 16.4%\n",
            "   Tenure 49 months: 22.7%\n",
            "   Tenure 25 months: 29.1%\n",
            "   Tenure 69 months: 8.4%\n",
            "   Tenure 52 months: 10.0%\n",
            "   Tenure 71 months: 3.5%\n",
            "   Tenure 21 months: 27.0%\n",
            "   Tenure 12 months: 32.5%\n",
            "   Tenure 30 months: 22.2%\n",
            "   Tenure 47 months: 20.6%\n",
            "   Tenure 72 months: 1.7%\n",
            "   Tenure 17 months: 29.9%\n",
            "   Tenure 27 months: 18.1%\n",
            "   Tenure  5 months: 48.1%\n",
            "   Tenure 46 months: 16.2%\n",
            "   Tenure 11 months: 31.3%\n",
            "   Tenure 70 months: 9.2%\n",
            "   Tenure 63 months: 5.6%\n",
            "   Tenure 43 months: 23.1%\n",
            "   Tenure 15 months: 37.4%\n",
            "   Tenure 60 months: 7.9%\n",
            "   Tenure 18 months: 24.7%\n",
            "   Tenure 66 months: 14.6%\n",
            "   Tenure  9 months: 38.7%\n",
            "   Tenure  3 months: 47.0%\n",
            "   Tenure 31 months: 24.6%\n",
            "   Tenure 50 months: 14.7%\n",
            "   Tenure 64 months: 5.0%\n",
            "   Tenure 56 months: 12.5%\n",
            "   Tenure  7 months: 38.9%\n",
            "   Tenure 42 months: 21.5%\n",
            "   Tenure 35 months: 17.0%\n",
            "   Tenure 48 months: 14.1%\n",
            "   Tenure 29 months: 20.8%\n",
            "   Tenure 65 months: 11.8%\n",
            "   Tenure 38 months: 22.0%\n",
            "   Tenure 68 months: 9.0%\n",
            "   Tenure 32 months: 27.5%\n",
            "   Tenure 55 months: 14.1%\n",
            "   Tenure 37 months: 23.1%\n",
            "   Tenure 36 months: 20.0%\n",
            "   Tenure 41 months: 20.0%\n",
            "   Tenure  6 months: 36.4%\n",
            "   Tenure  4 months: 47.2%\n",
            "   Tenure 33 months: 21.9%\n",
            "   Tenure 67 months: 10.2%\n",
            "   Tenure 23 months: 15.3%\n",
            "   Tenure 57 months: 12.3%\n",
            "   Tenure 61 months: 10.5%\n",
            "   Tenure 14 months: 31.6%\n",
            "   Tenure 20 months: 25.4%\n",
            "   Tenure 53 months: 20.0%\n",
            "   Tenure 40 months: 20.3%\n",
            "   Tenure 59 months: 13.3%\n",
            "   Tenure 24 months: 24.5%\n",
            "   Tenure 44 months: 11.8%\n",
            "   Tenure 19 months: 26.0%\n",
            "   Tenure 54 months: 19.1%\n",
            "   Tenure 51 months: 11.8%\n",
            "   Tenure 26 months: 19.0%\n",
            "   Tenure 39 months: 25.0%\n",
            "\n",
            "3. Churn by Contract Type:\n",
            "   Month-to-month: 42.7%\n",
            "   One year: 11.3%\n",
            "   Two year: 2.8%\n",
            "\n",
            "4. Churn by Payment Method:\n",
            "   Electronic Check: 45.3%\n",
            "   Other Methods: 17.1%\n",
            "\n",
            "🏆 Best Model: Random Forest\n",
            "AUC Score: 0.8176\n",
            "Accuracy: 0.7918\n",
            "\n",
            "✅ ANALYSIS COMPLETE.\n"
          ]
        },
        {
          "output_type": "stream",
          "name": "stderr",
          "text": [
            "/tmp/ipython-input-13-3083224405.py:36: FutureWarning: Series.__getitem__ treating keys as positions is deprecated. In a future version, integer keys will always be treated as labels (consistent with DataFrame behavior). To access a value by position, use `ser.iloc[pos]`\n",
            "  print(\"   Electronic Check: {:.1%}\".format(payment_churn[1]))\n",
            "/tmp/ipython-input-13-3083224405.py:37: FutureWarning: Series.__getitem__ treating keys as positions is deprecated. In a future version, integer keys will always be treated as labels (consistent with DataFrame behavior). To access a value by position, use `ser.iloc[pos]`\n",
            "  print(\"   Other Methods: {:.1%}\".format(payment_churn[0]))\n"
          ]
        }
      ]
    },
    {
      "cell_type": "markdown",
      "source": [
        "## Business Insights & Recommendations\n",
        "\n",
        "**Key Findings:**\n",
        "- **26.6% overall churn rate** - 1 in 4 customers leave\n",
        "- **New customers highest risk** - 0-12 months show extreme churn rates\n",
        "- **Long-term contracts work** - significantly reduce churn\n",
        "- **Electronic check issues** - higher churn than other payment methods\n",
        "\n",
        "\n",
        "\n",
        "**Best Model:**\n",
        "**Logistic Regression** - AUC: 0.8351, Accuracy: 79.4%\n",
        "\n",
        "**Bottom Line:**\n",
        "Focus retention efforts on new customers and contract upgrades for maximum impact."
      ],
      "metadata": {
        "id": "t9WCYSURyGn5"
      },
      "id": "t9WCYSURyGn5"
    },
    {
      "cell_type": "markdown",
      "source": [
        "##WEEK 4"
      ],
      "metadata": {
        "id": "8JIQFkLNzsfN"
      },
      "id": "8JIQFkLNzsfN"
    },
    {
      "cell_type": "markdown",
      "source": [
        "#Step 15: ROC Curve & AUC Visualization"
      ],
      "metadata": {
        "id": "E4eaoKNKzN56"
      },
      "id": "E4eaoKNKzN56"
    },
    {
      "cell_type": "code",
      "source": [
        "from sklearn.metrics import roc_curve, roc_auc_score\n",
        "\n",
        "# Use best performing model from Week 3\n",
        "best_model_name = max(results.items(), key=lambda x: x[1]['auc'])[0]\n",
        "best_model_data = results[best_model_name]\n",
        "\n",
        "fpr, tpr, thresholds = roc_curve(y_test, best_model_data['y_proba'])\n",
        "\n",
        "plt.figure(figsize=(8, 6))\n",
        "plt.plot(fpr, tpr, label=f\"{best_model_name} (AUC = {best_model_data['auc']:.3f})\", linewidth=2)\n",
        "plt.plot([0, 1], [0, 1], linestyle='--', color='gray', label='Random Classifier')\n",
        "plt.title('ROC Curve')\n",
        "plt.xlabel('False Positive Rate')\n",
        "plt.ylabel('True Positive Rate')\n",
        "plt.legend()\n",
        "plt.grid(True)\n",
        "plt.show()\n"
      ],
      "metadata": {
        "colab": {
          "base_uri": "https://localhost:8080/",
          "height": 564
        },
        "id": "Vb8_RRZdzEhF",
        "outputId": "d1fe1319-9d0a-409a-954c-1cea09476703"
      },
      "id": "Vb8_RRZdzEhF",
      "execution_count": null,
      "outputs": [
        {
          "output_type": "display_data",
          "data": {
            "text/plain": [
              "<Figure size 800x600 with 1 Axes>"
            ],
            "image/png": "[encoded data removed]"
          },
          "metadata": {}
        }
      ]
    },
    {
      "cell_type": "markdown",
      "source": [
        "Explanation:\n",
        "\n",
        "ROC Curve: Plots the model’s ability to separate churn vs non-churn.\n",
        "\n",
        "AUC Score: Higher is better (max is 1.0); shows how well the model ranks positives higher than negatives."
      ],
      "metadata": {
        "id": "kjbaQOLqzKA8"
      },
      "id": "kjbaQOLqzKA8"
    },
    {
      "cell_type": "markdown",
      "source": [
        "This is a Receiver Operating Characteristic (ROC) curve that shows the performance of a Random Forest classifier compared to a random classifier baseline.\n",
        "\n",
        "Here's what the graph demonstrates:\n",
        "\n",
        "**The blue solid line** represents the Random Forest model's performance across different classification thresholds. It shows the trade-off between:\n",
        "- **True Positive Rate** (y-axis): The proportion of actual positive cases correctly identified\n",
        "- **False Positive Rate** (x-axis): The proportion of actual negative cases incorrectly classified as positive\n",
        "\n",
        "**The gray dashed diagonal line** represents a random classifier that would perform no better than chance - it has a 50% probability of being correct.\n",
        "\n",
        "**Key insights:**\n",
        "- The Random Forest achieves an **AUC (Area Under Curve) of 0.818**, which indicates good predictive performance\n",
        "- An AUC of 0.818 means the model has an 81.8% chance of correctly distinguishing between positive and negative cases\n",
        "- The curve's position well above the diagonal line shows the Random Forest significantly outperforms random guessing\n",
        "- The steep initial rise of the curve indicates the model can achieve high true positive rates while maintaining relatively low false positive rates\n",
        "\n",
        "**Performance interpretation:**\n",
        "- AUC = 0.5: Random performance (no predictive ability)\n",
        "- AUC = 0.818: Good performance\n",
        "- AUC = 1.0: Perfect performance\n",
        "\n",
        "This suggests the Random Forest model is performing well for whatever classification task it's being applied to."
      ],
      "metadata": {
        "id": "9EDRc1SjlVLn"
      },
      "id": "9EDRc1SjlVLn"
    },
    {
      "cell_type": "markdown",
      "source": [
        "#Step 16: Compare Models Using Cross-Validation\n",
        "\n"
      ],
      "metadata": {
        "id": "bcQ3zTUSzUcd"
      },
      "id": "bcQ3zTUSzUcd"
    },
    {
      "cell_type": "code",
      "source": [
        "from sklearn.model_selection import cross_val_score\n",
        "\n",
        "print(\"\\n\" + \"=\"*50)\n",
        "print(\"Step 16: Cross-Validation Comparison\")\n",
        "print(\"=\"*50)\n",
        "\n",
        "# Cross-validation scores\n",
        "for name, model in models.items():\n",
        "    if name == 'Logistic Regression':\n",
        "        scores = cross_val_score(model, X, y, cv=5, scoring='roc_auc')\n",
        "    else:\n",
        "        scores = cross_val_score(model, X, y, cv=5, scoring='roc_auc')\n",
        "\n",
        "    print(f\"{name}: Mean AUC (5-fold CV) = {scores.mean():.4f}\")\n"
      ],
      "metadata": {
        "colab": {
          "base_uri": "https://localhost:8080/"
        },
        "id": "Ql1g_HYjzKzR",
        "outputId": "e0b72339-322e-4671-d14e-a8955c325f56"
      },
      "id": "Ql1g_HYjzKzR",
      "execution_count": null,
      "outputs": [
        {
          "output_type": "stream",
          "name": "stdout",
          "text": [
            "\n",
            "==================================================\n",
            "Step 16: Cross-Validation Comparison\n",
            "==================================================\n"
          ]
        },
        {
          "output_type": "stream",
          "name": "stderr",
          "text": [
            "/usr/local/lib/python3.11/dist-packages/sklearn/linear_model/_logistic.py:465: ConvergenceWarning: lbfgs failed to converge (status=1):\n",
            "STOP: TOTAL NO. OF ITERATIONS REACHED LIMIT.\n",
            "\n",
            "Increase the number of iterations (max_iter) or scale the data as shown in:\n",
            "    https://scikit-learn.org/stable/modules/preprocessing.html\n",
            "Please also refer to the documentation for alternative solver options:\n",
            "    https://scikit-learn.org/stable/modules/linear_model.html#logistic-regression\n",
            "  n_iter_i = _check_optimize_result(\n",
            "/usr/local/lib/python3.11/dist-packages/sklearn/linear_model/_logistic.py:465: ConvergenceWarning: lbfgs failed to converge (status=1):\n",
            "STOP: TOTAL NO. OF ITERATIONS REACHED LIMIT.\n",
            "\n",
            "Increase the number of iterations (max_iter) or scale the data as shown in:\n",
            "    https://scikit-learn.org/stable/modules/preprocessing.html\n",
            "Please also refer to the documentation for alternative solver options:\n",
            "    https://scikit-learn.org/stable/modules/linear_model.html#logistic-regression\n",
            "  n_iter_i = _check_optimize_result(\n",
            "/usr/local/lib/python3.11/dist-packages/sklearn/linear_model/_logistic.py:465: ConvergenceWarning: lbfgs failed to converge (status=1):\n",
            "STOP: TOTAL NO. OF ITERATIONS REACHED LIMIT.\n",
            "\n",
            "Increase the number of iterations (max_iter) or scale the data as shown in:\n",
            "    https://scikit-learn.org/stable/modules/preprocessing.html\n",
            "Please also refer to the documentation for alternative solver options:\n",
            "    https://scikit-learn.org/stable/modules/linear_model.html#logistic-regression\n",
            "  n_iter_i = _check_optimize_result(\n",
            "/usr/local/lib/python3.11/dist-packages/sklearn/linear_model/_logistic.py:465: ConvergenceWarning: lbfgs failed to converge (status=1):\n",
            "STOP: TOTAL NO. OF ITERATIONS REACHED LIMIT.\n",
            "\n",
            "Increase the number of iterations (max_iter) or scale the data as shown in:\n",
            "    https://scikit-learn.org/stable/modules/preprocessing.html\n",
            "Please also refer to the documentation for alternative solver options:\n",
            "    https://scikit-learn.org/stable/modules/linear_model.html#logistic-regression\n",
            "  n_iter_i = _check_optimize_result(\n",
            "/usr/local/lib/python3.11/dist-packages/sklearn/linear_model/_logistic.py:465: ConvergenceWarning: lbfgs failed to converge (status=1):\n",
            "STOP: TOTAL NO. OF ITERATIONS REACHED LIMIT.\n",
            "\n",
            "Increase the number of iterations (max_iter) or scale the data as shown in:\n",
            "    https://scikit-learn.org/stable/modules/preprocessing.html\n",
            "Please also refer to the documentation for alternative solver options:\n",
            "    https://scikit-learn.org/stable/modules/linear_model.html#logistic-regression\n",
            "  n_iter_i = _check_optimize_result(\n"
          ]
        },
        {
          "output_type": "stream",
          "name": "stdout",
          "text": [
            "Logistic Regression: Mean AUC (5-fold CV) = 0.8457\n",
            "Random Forest: Mean AUC (5-fold CV) = 0.8217\n"
          ]
        }
      ]
    },
    {
      "cell_type": "markdown",
      "source": [
        "Explanation:\n",
        "\n",
        "Uses 5-fold cross-validation to test how models perform across different data splits.\n",
        "\n",
        "roc_auc as the scoring metric since it’s more informative for imbalanced classification like churn."
      ],
      "metadata": {
        "id": "P671Bt07zcTi"
      },
      "id": "P671Bt07zcTi"
    },
    {
      "cell_type": "markdown",
      "source": [
        "The Process:\n",
        "\n",
        "We tested Logistic Regression vs Random Forest\n",
        "Used 5-fold cross-validation (splits data into 5 parts, trains 5 times, averages results)\n",
        "This gives us a more reliable performance estimate than testing just once\n",
        "\n",
        "The Results:\n",
        "\n",
        "Logistic Regression: 84.57% accuracy (AUC score)\n",
        "Random Forest: 82.17% accuracy (AUC score)\n",
        "Winner: Logistic Regression performs about 2.4% better\n",
        "What This Means:\n",
        "\n",
        "Both models perform well (anything above 80% AUC is considered good)\n",
        "Logistic Regression is the better choice for this particular dataset"
      ],
      "metadata": {
        "id": "GNWUl6H6mSPV"
      },
      "id": "GNWUl6H6mSPV"
    },
    {
      "cell_type": "markdown",
      "source": [
        "#Step 17: Business Insights & Actionable Recommendations\n",
        "\n",
        "\n"
      ],
      "metadata": {
        "id": "ItykblAEzdrx"
      },
      "id": "ItykblAEzdrx"
    },
    {
      "cell_type": "markdown",
      "source": [
        "1. Churn Rate by Contract Type\n",
        "Long-term contracts reduce churn."
      ],
      "metadata": {
        "id": "DvW5eHOZEkK0"
      },
      "id": "DvW5eHOZEkK0"
    },
    {
      "cell_type": "code",
      "source": [
        "def contract_type(row):\n",
        "    if 'Contract_One year' in row and row['Contract_One year'] == 1:\n",
        "        return 'One year'\n",
        "    elif 'Contract_Two year' in row and row['Contract_Two year'] == 1:\n",
        "        return 'Two year'\n",
        "    else:\n",
        "        return 'Month-to-month'\n",
        "\n",
        "df['ContractType'] = df.apply(contract_type, axis=1)\n",
        "contract_churn = df.groupby('ContractType')['Churn'].mean()\n",
        "print(\"📉 Churn by Contract Type:\")\n",
        "print(contract_churn)\n"
      ],
      "metadata": {
        "colab": {
          "base_uri": "https://localhost:8080/"
        },
        "id": "nuZ5gMhpzgoo",
        "outputId": "b9fead17-34ef-465d-dcb3-e57144efa1c1"
      },
      "id": "nuZ5gMhpzgoo",
      "execution_count": null,
      "outputs": [
        {
          "output_type": "stream",
          "name": "stdout",
          "text": [
            "📉 Churn by Contract Type:\n",
            "ContractType\n",
            "Month-to-month    0.427097\n",
            "One year          0.112772\n",
            "Two year          0.028487\n",
            "Name: Churn, dtype: float64\n"
          ]
        }
      ]
    },
    {
      "cell_type": "markdown",
      "source": [
        "Insight:\n",
        "\n",
        "📉 Month-to-month plans have the highest churn rate.\n",
        "\n",
        "📄 Customers with long-term contracts (1 or 2 years) churn much less.\n",
        "\n",
        "Recommendation:\n",
        "🔒 Promote long-term contracts through discounts and incentives."
      ],
      "metadata": {
        "id": "RC-FgYd1Em3J"
      },
      "id": "RC-FgYd1Em3J"
    },
    {
      "cell_type": "markdown",
      "source": [
        " 2. Monthly Charges and Churn"
      ],
      "metadata": {
        "id": "ZFZrD2_qEqA5"
      },
      "id": "ZFZrD2_qEqA5"
    },
    {
      "cell_type": "code",
      "source": [
        "high_charges = df[df['MonthlyCharges'] > df['MonthlyCharges'].median()]\n",
        "low_charges = df[df['MonthlyCharges'] <= df['MonthlyCharges'].median()]\n",
        "\n",
        "print(\"💰 Churn by Monthly Charges:\")\n",
        "print(f\"High Charges (> Median): {high_charges['Churn'].mean():.2%}\")\n",
        "print(f\"Low Charges (<= Median): {low_charges['Churn'].mean():.2%}\")\n"
      ],
      "metadata": {
        "colab": {
          "base_uri": "https://localhost:8080/"
        },
        "id": "BlQde-GTEcZ8",
        "outputId": "6acee8c4-c352-4785-c3cd-019684a7dc11"
      },
      "id": "BlQde-GTEcZ8",
      "execution_count": null,
      "outputs": [
        {
          "output_type": "stream",
          "name": "stdout",
          "text": [
            "💰 Churn by Monthly Charges:\n",
            "High Charges (> Median): 35.21%\n",
            "Low Charges (<= Median): 17.96%\n"
          ]
        }
      ]
    },
    {
      "cell_type": "markdown",
      "source": [
        "Insight:\n",
        "\n",
        "💸 Higher monthly charges correlate with higher churn.\n",
        "\n",
        "Recommendation:\n",
        "🎁 Offer personalized discounts or bundles for high-spending, high-risk customers."
      ],
      "metadata": {
        "id": "IfO04k7KEtaf"
      },
      "id": "IfO04k7KEtaf"
    },
    {
      "cell_type": "markdown",
      "source": [
        "3. Internet Service and Churn"
      ],
      "metadata": {
        "id": "fkTwP7LcEvF2"
      },
      "id": "fkTwP7LcEvF2"
    },
    {
      "cell_type": "code",
      "source": [
        "# Reconstruct the 'InternetService' column from one-hot encoded features\n",
        "def get_internet_service(row):\n",
        "    if row.get('InternetService_DSL', 0) == 1:\n",
        "        return 'DSL'\n",
        "    elif row.get('InternetService_Fiber optic', 0) == 1:\n",
        "        return 'Fiber optic'\n",
        "    else:\n",
        "        return 'No'\n",
        "\n",
        "df['InternetService'] = df.apply(get_internet_service, axis=1)\n",
        "\n",
        "# Now calculate churn rate by Internet service\n",
        "internet_churn = df.groupby('InternetService')['Churn'].mean()\n",
        "print(\"🌐 Churn by Internet Service:\")\n",
        "print(internet_churn)\n"
      ],
      "metadata": {
        "colab": {
          "base_uri": "https://localhost:8080/"
        },
        "id": "lh-VvAXqEed1",
        "outputId": "9c0ad605-cbe6-4d39-b128-dc6b904312c3"
      },
      "id": "lh-VvAXqEed1",
      "execution_count": null,
      "outputs": [
        {
          "output_type": "stream",
          "name": "stdout",
          "text": [
            "🌐 Churn by Internet Service:\n",
            "InternetService\n",
            "Fiber optic    0.418928\n",
            "No             0.145325\n",
            "Name: Churn, dtype: float64\n"
          ]
        }
      ]
    },
    {
      "cell_type": "markdown",
      "source": [
        "Insight:\n",
        "\n",
        "🧷 Customers with Fiber optic or DSL services churn more than those without internet.\n",
        "\n",
        "Recommendation:\n",
        "🚀 Improve internet service quality — especially Fiber optic — or provide loyalty rewards."
      ],
      "metadata": {
        "id": "DOemLiGtEwxw"
      },
      "id": "DOemLiGtEwxw"
    }
  ],
  "metadata": {
    "kernelspec": {
      "display_name": "Python 3 (ipykernel)",
      "language": "python",
      "name": "python3"
    },
    "language_info": {
      "codemirror_mode": {
        "name": "ipython",
        "version": 3
      },
      "file_extension": ".py",
      "mimetype": "text/x-python",
      "name": "python",
      "nbconvert_exporter": "python",
      "pygments_lexer": "ipython3",
      "version": "3.12.7"
    },
    "colab": {
      "provenance": [],
      "include_colab_link": true
    }
  },
  "nbformat": 4,
  "nbformat_minor": 5
}